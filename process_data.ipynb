{
 "cells": [
  {
   "cell_type": "code",
   "execution_count": 18,
   "metadata": {},
   "outputs": [],
   "source": [
    "import torch\n",
    "import numpy as np\n",
    "import os\n",
    "import re"
   ]
  },
  {
   "cell_type": "markdown",
   "metadata": {},
   "source": [
    "### 定义几个辅助函数：\n",
    "↓👇这个用来干啥来着，我还没搞清楚（之后记得把这行改掉"
   ]
  },
  {
   "cell_type": "code",
   "execution_count": 19,
   "metadata": {},
   "outputs": [],
   "source": [
    "def load_cab_vector():\n",
    "    word_list = []\n",
    "    vocabulary_vectors = []\n",
    "    data = open('glove.6B.50d.txt', encoding='utf-8')\n",
    "    for line in data.readlines():\n",
    "        temp = line.strip('\\n').split(' ')  # 一个列表\n",
    "        name = temp[0]\n",
    "        word_list.append(name.lower())\n",
    "        vector = [temp[i] for i in range(1, len(temp))]  # 向量\n",
    "        vector = list(map(float, vector))  # 变成浮点数\n",
    "        vocabulary_vectors.append(vector)\n",
    "    # 保存\n",
    "    vocabulary_vectors = np.array(vocabulary_vectors)\n",
    "    word_list = np.array(word_list)\n",
    "    np.save('npys/vocabulary_vectors', vocabulary_vectors)\n",
    "    np.save('npys/word_list', word_list)\n",
    "    return vocabulary_vectors, word_list"
   ]
  },
  {
   "cell_type": "markdown",
   "metadata": {},
   "source": [
    "↓👇这个用来从文件中加载原始文本数据并处理成单词列表"
   ]
  },
  {
   "cell_type": "code",
   "execution_count": 20,
   "metadata": {},
   "outputs": [],
   "source": [
    "def load_data(path, flag='train'):\n",
    "    labels = ['pos', 'neg']\n",
    "    data = []\n",
    "    for label in labels:\n",
    "        files = os.listdir(os.path.join(path, flag, label))\n",
    "        # 去除标点符号\n",
    "        r = '[’!\"#$%&\\'()*+,-./:;<=>?@[\\\\]^_`{|}~\\n。！，]+'\n",
    "        for file in files:\n",
    "            with open(os.path.join(path, flag, label, file), 'r', encoding='utf8') as rf:\n",
    "                temp = rf.read()\n",
    "                print(temp)\n",
    "                temp = temp.replace('\\n', ' ').replace('<br /><br />', ' ')\n",
    "                temp = re.sub(r, ' ', temp)\n",
    "                temp = temp.split(' ')\n",
    "                temp = [temp[i].lower() for i in range(len(temp)) if temp[i] != '']\n",
    "                if label == 'pos':\n",
    "                    data.append([temp, 1])\n",
    "                elif label == 'neg':\n",
    "                    data.append([temp, 0])\n",
    "            break # Remember to delete this\n",
    "    return data"
   ]
  },
  {
   "cell_type": "markdown",
   "metadata": {},
   "source": [
    "测试一下，看看数据发育正不正常啊"
   ]
  },
  {
   "cell_type": "code",
   "execution_count": 21,
   "metadata": {},
   "outputs": [
    {
     "name": "stdout",
     "output_type": "stream",
     "text": [
      "Bromwell High is a cartoon comedy. It ran at the same time as some other programs about school life, such as \"Teachers\". My 35 years in the teaching profession lead me to believe that Bromwell High's satire is much closer to reality than is \"Teachers\". The scramble to survive financially, the insightful students who can see right through their pathetic teachers' pomp, the pettiness of the whole situation, all remind me of the schools I knew and their students. When I saw the episode in which a student repeatedly tried to burn down the school, I immediately recalled ......... at .......... High. A classic line: INSPECTOR: I'm here to sack one of your teachers. STUDENT: Welcome to Bromwell High. I expect that many adults of my age think that Bromwell High is far fetched. What a pity that it isn't!\n",
      "Story of a man who has unnatural feelings for a pig. Starts out with a opening scene that is a terrific example of absurd comedy. A formal orchestra audience is turned into an insane, violent mob by the crazy chantings of it's singers. Unfortunately it stays absurd the WHOLE time with no general narrative eventually making it just too off putting. Even those from the era should be turned off. The cryptic dialogue would make Shakespeare seem easy to a third grader. On a technical level it's better than you might think with some good cinematography by future great Vilmos Zsigmond. Future stars Sally Kirkland and Frederic Forrest can be seen briefly.\n",
      "[['bromwell', 'high', 'is', 'a', 'cartoon', 'comedy', 'it', 'ran', 'at', 'the', 'same', 'time', 'as', 'some', 'other', 'programs', 'about', 'school', 'life', 'such', 'as', 'teachers', 'my', '35', 'years', 'in', 'the', 'teaching', 'profession', 'lead', 'me', 'to', 'believe', 'that', 'bromwell', 'high', 's', 'satire', 'is', 'much', 'closer', 'to', 'reality', 'than', 'is', 'teachers', 'the', 'scramble', 'to', 'survive', 'financially', 'the', 'insightful', 'students', 'who', 'can', 'see', 'right', 'through', 'their', 'pathetic', 'teachers', 'pomp', 'the', 'pettiness', 'of', 'the', 'whole', 'situation', 'all', 'remind', 'me', 'of', 'the', 'schools', 'i', 'knew', 'and', 'their', 'students', 'when', 'i', 'saw', 'the', 'episode', 'in', 'which', 'a', 'student', 'repeatedly', 'tried', 'to', 'burn', 'down', 'the', 'school', 'i', 'immediately', 'recalled', 'at', 'high', 'a', 'classic', 'line', 'inspector', 'i', 'm', 'here', 'to', 'sack', 'one', 'of', 'your', 'teachers', 'student', 'welcome', 'to', 'bromwell', 'high', 'i', 'expect', 'that', 'many', 'adults', 'of', 'my', 'age', 'think', 'that', 'bromwell', 'high', 'is', 'far', 'fetched', 'what', 'a', 'pity', 'that', 'it', 'isn', 't'], 1]\n"
     ]
    }
   ],
   "source": [
    "train_data = load_data('./data/aclImdb/')\n",
    "print(train_data[0])"
   ]
  }
 ],
 "metadata": {
  "kernelspec": {
   "display_name": "Python 3.7.13 ('ML')",
   "language": "python",
   "name": "python3"
  },
  "language_info": {
   "codemirror_mode": {
    "name": "ipython",
    "version": 3
   },
   "file_extension": ".py",
   "mimetype": "text/x-python",
   "name": "python",
   "nbconvert_exporter": "python",
   "pygments_lexer": "ipython3",
   "version": "3.7.13"
  },
  "orig_nbformat": 4,
  "vscode": {
   "interpreter": {
    "hash": "8809126b2e3f6bd67afd8dec0aaf136102c3339cf179547b748c69a78a732e29"
   }
  }
 },
 "nbformat": 4,
 "nbformat_minor": 2
}
