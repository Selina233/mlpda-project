{
  "cells": [
    {
      "cell_type": "code",
      "execution_count": 1,
      "metadata": {},
      "outputs": [],
      "source": [
        "import os\n",
        "import re\n",
        "\n",
        "import numpy as np\n",
        "import torch\n",
        "import tqdm"
      ]
    },
    {
      "cell_type": "markdown",
      "metadata": {},
      "source": [
        "### 定义几个辅助函数：\n",
        "↓👇以下是两个表：单词->单词序号；单词序号->词向量。\n"
      ]
    },
    {
      "cell_type": "code",
      "execution_count": 2,
      "metadata": {},
      "outputs": [],
      "source": [
        "word_list = []\n",
        "vocabulary_vectors = []\n",
        "# glove_data = open('data/glove.6B.50d.txt', encoding='utf-8')\n",
        "glove_data = open('data/glove.6B.100d.txt', encoding='utf-8') # 我下下来的glove是100d，yyt你要用的话记得改回上一行（）\n",
        "for line in glove_data.readlines():\n",
        "    temp = line.strip('\\n').split(' ')  # 一个列表\n",
        "    name = temp[0]\n",
        "    word_list.append(name.lower())\n",
        "    vector = [temp[i] for i in range(1, len(temp))]  # 向量\n",
        "    vector = list(map(float, vector))  # 变成浮点数\n",
        "    vocabulary_vectors.append(vector)\n",
        "# 保存\n",
        "vocabulary_vectors = np.array(vocabulary_vectors)\n",
        "word_list = np.array(word_list)\n",
        "np.save('npys/vocabulary_vectors', vocabulary_vectors)\n",
        "# np.save('npys/word_list', word_list)\n",
        "# 保存你🐎呢，马上就用了\n",
        "# word_list = np.load('npys/word_list.npy', allow_pickle=True)\n",
        "\n",
        "# 直接tm给你转成哈希表，傻子才用list一个一个搜索呢，堪称头部螺旋桨\n",
        "word_list = word_list.tolist()\n",
        "word2index={} # word->index\n",
        "for i in range(len(word_list)):\n",
        "    word2index[word_list[i]]=i"
      ]
    },
    {
      "cell_type": "markdown",
      "metadata": {},
      "source": [
        "↓👇这个用来从文件中加载原始文本数据并处理成单词列表"
      ]
    },
    {
      "cell_type": "code",
      "execution_count": 3,
      "metadata": {},
      "outputs": [],
      "source": [
        "def load_data(path, flag='train'):\n",
        "    labels = ['pos', 'neg']\n",
        "    data = []\n",
        "    r = '[’!\"#$%&\\'()*+,-./:;<=>?@[\\\\]^_`{|}~\\n。！，]+'\n",
        "    compiled = re.compile(r)\n",
        "    for label in labels:\n",
        "        files = os.listdir(os.path.join(path, flag, label))\n",
        "        # 去除标点符号\n",
        "        for file in tqdm.tqdm(files): # Don't be nervous, tqdm is only a progress bar. \n",
        "            with open(os.path.join(path, flag, label, file), 'r', encoding='utf8') as rf:\n",
        "                temp = rf.read()\n",
        "                temp = temp.replace('\\n', ' ').replace('<br /><br />', ' ')\n",
        "                temp = re.sub(r, ' \\g<0> ', temp)\n",
        "                temp = temp.split(' ')\n",
        "                temp = [temp[i].lower() for i in range(len(temp)) if temp[i] != '']\n",
        "                if label == 'pos':\n",
        "                    data.append([temp, 1])\n",
        "                elif label == 'neg':\n",
        "                    data.append([temp, 0])\n",
        "            #break # Remember to delete this\n",
        "    return data"
      ]
    },
    {
      "cell_type": "markdown",
      "metadata": {},
      "source": [
        "↓👇这个用来把所有文本转成numpy数组，然后存在文件里。至此，预处理完成。"
      ]
    },
    {
      "cell_type": "code",
      "execution_count": 4,
      "metadata": {},
      "outputs": [],
      "source": [
        "def process_sentence(flag: str, path: str = 'data/aclImdb', length_limit: int = 250):\n",
        "    '''Process data into numpy arrays and save them. \n",
        "    ---\n",
        "    They look like: \n",
        "    \n",
        "    sentence_code: [[word IDs], [word IDs], ...]\n",
        "    \n",
        "    labels: [label, label, ...]\n",
        "    \n",
        "    flag should be either \"train\" or \"test\". \n",
        "    '''\n",
        "    output_dir = os.path.join(\"./npys\", flag)\n",
        "    os.makedirs(output_dir, exist_ok=True)\n",
        "    if os.path.exists(os.path.join(output_dir, \"sentence_code.npy\")) and os.path.exists(os.path.join(output_dir, \"labels.npy\")):\n",
        "        print(\"大哥，你已经预处理过了🤣\")\n",
        "        return []\n",
        "    \n",
        "    sentence_code = []\n",
        "    labels = []\n",
        "    length=[0 for i in range(1000)] # 统计评论长度分布\n",
        "    test_data = load_data(path, flag)\n",
        "    cnt=0\n",
        "    for i in tqdm.tqdm(range(len(test_data))): # Don't be nervous, tqdm is only a progress bar. \n",
        "        # print(i)\n",
        "        vec = test_data[i][0]\n",
        "        label = test_data[i][1] # 0 or 1\n",
        "        temp = []\n",
        "        index = 0\n",
        "        for j in range(len(vec)):\n",
        "            try:\n",
        "                index = word2index[vec[j]]\n",
        "            except KeyError:  # 没找到\n",
        "                index = 400000\n",
        "            finally:\n",
        "                temp.append(index)  # temp表示一个单词在词典中的序号\n",
        "        \n",
        "        l=len(temp)\n",
        "        if l>=1000:\n",
        "            l=999\n",
        "        length[l]+=1\n",
        "        if l<length_limit:\n",
        "            for k in range(l, 250):  # 不足补0\n",
        "                temp.append(0)\n",
        "        else:\n",
        "            temp = temp[0:250]  # 只保留250个\n",
        "        sentence_code.append(temp)\n",
        "        labels.append(label)\n",
        "        cnt += 1\n",
        "\n",
        "    sentence_code = np.array(sentence_code)\n",
        "    np.save(os.path.join(output_dir, \"sentence_code\"), sentence_code)\n",
        "    np.save(os.path.join(output_dir, \"labels\"), labels)\n",
        "    return length\n"
      ]
    },
    {
      "cell_type": "markdown",
      "metadata": {},
      "source": [
        "测试一下，看看数据发育正不正常啊"
      ]
    },
    {
      "cell_type": "code",
      "execution_count": 12,
      "metadata": {},
      "outputs": [
        {
          "name": "stdout",
          "output_type": "stream",
          "text": [
            "大哥，你已经预处理过了🤣\n",
            "大哥，你已经预处理过了🤣\n"
          ]
        }
      ],
      "source": [
        "result_train = process_sentence(\"train\")\n",
        "result_test = process_sentence(\"test\")"
      ]
    },
    {
      "cell_type": "code",
      "execution_count": 6,
      "metadata": {},
      "outputs": [
        {
          "data": {
            "text/plain": [
              "[<matplotlib.lines.Line2D at 0x23803e7d548>]"
            ]
          },
          "execution_count": 6,
          "metadata": {},
          "output_type": "execute_result"
        },
        {
          "data": {
            "image/png": "[encoded data removed]",
            "text/plain": [
              "<Figure size 640x480 with 1 Axes>"
            ]
          },
          "metadata": {},
          "output_type": "display_data"
        }
      ],
      "source": [
        "import matplotlib.pyplot as plt\n",
        "\n",
        "plt.plot(result_train)\n",
        "plt.plot(result_test)"
      ]
    },
    {
      "cell_type": "code",
      "execution_count": 11,
      "metadata": {},
      "outputs": [
        {
          "data": {
            "text/plain": [
              "35690"
            ]
          },
          "execution_count": 11,
          "metadata": {},
          "output_type": "execute_result"
        }
      ],
      "source": [
        "word2index[\"fuck\"]"
      ]
    }
  ],
  "metadata": {
    "kernelspec": {
      "display_name": "Python 3.7.13 ('ML')",
      "language": "python",
      "name": "python3"
    },
    "language_info": {
      "codemirror_mode": {
        "name": "ipython",
        "version": 3
      },
      "file_extension": ".py",
      "mimetype": "text/x-python",
      "name": "python",
      "nbconvert_exporter": "python",
      "pygments_lexer": "ipython3",
      "version": "3.7.13"
    },
    "orig_nbformat": 4,
    "vscode": {
      "interpreter": {
        "hash": "8809126b2e3f6bd67afd8dec0aaf136102c3339cf179547b748c69a78a732e29"
      }
    }
  },
  "nbformat": 4,
  "nbformat_minor": 2
}
