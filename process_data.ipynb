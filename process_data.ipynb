{
  "cells": [
    {
      "cell_type": "code",
      "execution_count": 1,
      "metadata": {},
      "outputs": [],
      "source": [
        "import os\n",
        "import re\n",
        "\n",
        "import numpy as np\n",
        "import torch\n",
        "import tqdm\n",
        "from utilities import *"
      ]
    },
    {
      "cell_type": "markdown",
      "metadata": {},
      "source": [
        "### 定义几个辅助函数：\n",
        "↓👇以下是两个表：单词->单词序号；单词序号->词向量。\n"
      ]
    },
    {
      "cell_type": "markdown",
      "metadata": {},
      "source": [
        "word2index：把单词转成索引，索引可以找到词向量\n",
        "\n",
        "wocabulary_vectors：所有单词的glove embedding，索引是单词id"
      ]
    },
    {
      "cell_type": "code",
      "execution_count": 2,
      "metadata": {},
      "outputs": [],
      "source": [
        "word_list = []\n",
        "vocabulary_vectors = []\n",
        "#大家都用100d\n",
        "word2index, vocabulary_vectors = get_glove_encoding()"
      ]
    },
    {
      "cell_type": "markdown",
      "metadata": {},
      "source": [
        "测试一下，看看数据发育正不正常啊"
      ]
    },
    {
      "cell_type": "code",
      "execution_count": 3,
      "metadata": {},
      "outputs": [
        {
          "name": "stdout",
          "output_type": "stream",
          "text": [
            "大哥，你已经预处理过了🤣不过为了保险起见，还是重新预处理一下\n"
          ]
        },
        {
          "name": "stderr",
          "output_type": "stream",
          "text": [
            "100%|██████████| 12500/12500 [00:02<00:00, 4911.35it/s]\n",
            "100%|██████████| 12500/12500 [00:02<00:00, 5025.59it/s]\n",
            "100%|██████████| 25000/25000 [00:00<00:00, 3717300.06it/s]\n"
          ]
        },
        {
          "name": "stdout",
          "output_type": "stream",
          "text": [
            "[[174943    152     14 ...     -1     -1     -1]\n",
            " [ 26494     23     46 ...     26   2231      4]\n",
            " [  6520     74     11 ...     -1     -1     -1]\n",
            " [    37     14   2407 ...     -1     -1     -1]\n",
            " [    37     14     36 ...     -1     -1     -1]]\n",
            "[1, 1, 1, 1, 1]\n",
            "大哥，你已经预处理过了🤣不过为了保险起见，还是重新预处理一下\n"
          ]
        },
        {
          "name": "stderr",
          "output_type": "stream",
          "text": [
            "100%|██████████| 12500/12500 [00:02<00:00, 4965.55it/s]\n",
            "100%|██████████| 12500/12500 [00:02<00:00, 4839.46it/s]\n",
            "100%|██████████| 25000/25000 [00:00<00:00, 3118348.90it/s]\n"
          ]
        },
        {
          "name": "stdout",
          "output_type": "stream",
          "text": [
            "[[   41   388     5 ...    -1    -1    -1]\n",
            " [ 2018   852   369 ...   179    10     7]\n",
            " [   19     7  9897 ...     0 12514   260]\n",
            " [   41   822    37 ...    -1    -1    -1]\n",
            " [  480 30091    31 ...    -1    -1    -1]]\n",
            "[1, 1, 1, 1, 1]\n"
          ]
        }
      ],
      "source": [
        "process_sentence(word2index, \"train\")\n",
        "process_sentence(word2index, \"test\")"
      ]
    },
    {
      "cell_type": "markdown",
      "metadata": {},
      "source": [
        "👇看一下数据分布&画图图"
      ]
    },
    {
      "cell_type": "code",
      "execution_count": 4,
      "metadata": {},
      "outputs": [],
      "source": [
        "# import matplotlib.pyplot as plt\n",
        "\n",
        "# plt.plot(result_train_label[0])\n",
        "# plt.title(\"Length distribution of negative instances\")\n",
        "# plt.show()\n",
        "# plt.plot(result_train_label[1])\n",
        "# plt.title(\"Length distribution of positive instances\")\n",
        "# plt.show()\n",
        "# # result_reallen_train.sort()\n",
        "# # IQR=result_reallen_train[(int)(len(result_reallen_train)*0.75)]-result_reallen_train[(int)(len(result_reallen_train)*0.25)]\n",
        "# # fuck=result_reallen_train[(int)(len(result_reallen_train)*0.75)]+1.5*IQR\n",
        "# # plt.boxplot(result_reallen_train)\n",
        "# # plt.show()\n",
        "# # plt.boxplot(result_reallen_test)\n",
        "# # plt.show()\n",
        "# words = sorted(word_cnt_train_label[0], key=lambda x: word_cnt_train_label[0][x], reverse=True)[:20]\n",
        "# plt.bar(words, [word_cnt_train_label[0][w] for w in words])\n",
        "# plt.title(\"Words distribution of negative instances\")\n",
        "# plt.show()\n",
        "# words = sorted(word_cnt_train_label[1], key=lambda x: word_cnt_train_label[1][x], reverse=True)[:20]\n",
        "# plt.bar(words, [word_cnt_train_label[1][w] for w in words])\n",
        "# plt.title(\"Words distribution of positive instances\")\n",
        "# plt.show()\n",
        "\n",
        "\n",
        "# # print(fuck)\n"
      ]
    },
    {
      "cell_type": "markdown",
      "metadata": {},
      "source": [
        "### 叔叔我啊，要开始训练了捏\n",
        "\n",
        "首先，写一个获取数据的函数"
      ]
    },
    {
      "cell_type": "code",
      "execution_count": 5,
      "metadata": {},
      "outputs": [],
      "source": [
        "# from model import MyTransformerEncoder\n",
        "# import dataset\n",
        "\n",
        "# model = MyTransformerEncoder()"
      ]
    }
  ],
  "metadata": {
    "kernelspec": {
      "display_name": "Python 3.7.13 ('ML')",
      "language": "python",
      "name": "python3"
    },
    "language_info": {
      "codemirror_mode": {
        "name": "ipython",
        "version": 3
      },
      "file_extension": ".py",
      "mimetype": "text/x-python",
      "name": "python",
      "nbconvert_exporter": "python",
      "pygments_lexer": "ipython3",
      "version": "3.7.13"
    },
    "orig_nbformat": 4,
    "vscode": {
      "interpreter": {
        "hash": "8809126b2e3f6bd67afd8dec0aaf136102c3339cf179547b748c69a78a732e29"
      }
    }
  },
  "nbformat": 4,
  "nbformat_minor": 2
}
