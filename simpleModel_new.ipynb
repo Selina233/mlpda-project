{
 "cells": [
  {
   "cell_type": "code",
   "execution_count": 1,
   "metadata": {},
   "outputs": [],
   "source": [
    "from dataset import MyDataset\n",
    "import numpy as np\n",
    "from sklearn.svm import SVC\n",
    "from tqdm import tqdm"
   ]
  },
  {
   "cell_type": "markdown",
   "metadata": {},
   "source": [
    "👇词向量转化"
   ]
  },
  {
   "cell_type": "code",
   "execution_count": 2,
   "metadata": {},
   "outputs": [
    {
     "name": "stderr",
     "output_type": "stream",
     "text": [
      "100%|██████████| 25000/25000 [02:04<00:00, 201.30it/s]\n"
     ]
    }
   ],
   "source": [
    "train_sentence = np.load(\"./npys/train/sentence_code.npy\",allow_pickle=True)\n",
    "vocabulary_vectors = np.load(\"./npys/vocabulary_vectors.npy\",allow_pickle=True)\n",
    "y_train = np.load(\"./npys/train/labels.npy\",allow_pickle=True).tolist()\n",
    "X_train=[]\n",
    "# for sentence in train_sentence:\n",
    "#     temp=[]\n",
    "#     for word in sentence:\n",
    "#         if word<0:\n",
    "#             temp.append(np.zeros(100))\n",
    "#         else:\n",
    "#             temp.append(vocabulary_vectors[word])\n",
    "#     X_train.append(temp)\n",
    "\n",
    "for sentence in tqdm (train_sentence):\n",
    "    temp=[]\n",
    "    for word in sentence:\n",
    "        if word<0:\n",
    "            temp+=list(np.zeros(100))\n",
    "        else:\n",
    "            temp+=list(vocabulary_vectors[word])\n",
    "    X_train.append(temp)\n",
    "\n",
    "\n",
    "# sentence = [self.vocabulary_vectors[word_id] if word_id>=0 else np.zeros(100) for word_id in sentence]\n",
    "#         sentence = torch.as_tensor(sentence, dtype=torch.float32, device=self.device)\n",
    "#         label = torch.as_tensor(self.y[index], dtype=torch.float32, device=self.device)"
   ]
  },
  {
   "cell_type": "code",
   "execution_count": null,
   "metadata": {},
   "outputs": [],
   "source": [
    "#test!!!!!!!!\n",
    "\n",
    "train_sentence = np.load(\"./npys/train/sentence_code.npy\",allow_pickle=True)\n",
    "vocabulary_vectors = np.load(\"./npys/vocabulary_vectors.npy\",allow_pickle=True)\n",
    "y_train = np.load(\"./npys/train/labels.npy\",allow_pickle=True).tolist()\n",
    "X_train=[]\n",
    "# for sentence in train_sentence:\n",
    "#     temp=[]\n",
    "#     for word in sentence:\n",
    "#         if word<0:\n",
    "#             temp.append(np.zeros(100))\n",
    "#         else:\n",
    "#             temp.append(vocabulary_vectors[word])\n",
    "#     X_train.append(temp)\n",
    "\n",
    "for sentence in tqdm (train_sentence):\n",
    "    temp=[]\n",
    "    for word in sentence:\n",
    "        if word<0:\n",
    "            temp+=list(np.zeros(100))\n",
    "        else:\n",
    "            temp+=list(vocabulary_vectors[word])\n",
    "    X_train.append(temp)\n",
    "\n",
    "\n"
   ]
  },
  {
   "cell_type": "code",
   "execution_count": 3,
   "metadata": {},
   "outputs": [],
   "source": [
    "svm = SVC().fit(X_train, y_train)\n",
    "print(\"Support Vector Machine\")\n",
    "print(\"Accuracy on training set: {:.3f}\".format(svm.score(X_train, y_train)))\n",
    "print(\"Accuracy on test set: {:.3f}\".format(svm.score(X_test, y_test)))"
   ]
  },
  {
   "cell_type": "markdown",
   "metadata": {},
   "source": [
    "👇试试支持向量机"
   ]
  },
  {
   "cell_type": "markdown",
   "metadata": {},
   "source": [
    "#Train support vector machine model\n",
    "svm = SVC().fit(X_train, y_train)\n",
    "print(\"Support Vector Machine\")\n",
    "print(\"Accuracy on training set: {:.3f}\".format(svm.score(X_train, y_train)))\n",
    "print(\"Accuracy on test set: {:.3f}\".format(svm.score(X_test, y_test)))"
   ]
  }
 ],
 "metadata": {
  "kernelspec": {
   "display_name": "Python 3.10.8 ('mlpda')",
   "language": "python",
   "name": "python3"
  },
  "language_info": {
   "codemirror_mode": {
    "name": "ipython",
    "version": 3
   },
   "file_extension": ".py",
   "mimetype": "text/x-python",
   "name": "python",
   "nbconvert_exporter": "python",
   "pygments_lexer": "ipython3",
   "version": "3.10.8"
  },
  "orig_nbformat": 4,
  "vscode": {
   "interpreter": {
    "hash": "d3e0baf67eca4e7fa854f644d61b9ce9c5791eff3d5812e3fb6a3332a81a5d21"
   }
  }
 },
 "nbformat": 4,
 "nbformat_minor": 2
}
