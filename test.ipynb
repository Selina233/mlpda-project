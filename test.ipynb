{
 "cells": [
  {
   "cell_type": "markdown",
   "metadata": {},
   "source": [
    "测试准确率："
   ]
  },
  {
   "cell_type": "code",
   "execution_count": 11,
   "metadata": {},
   "outputs": [],
   "source": [
    "import os\n",
    "\n",
    "import numpy as np\n",
    "import torch\n",
    "from tqdm import tqdm\n",
    "\n",
    "from dataset import MyDataset\n",
    "from model import MyTransformerEncoder\n",
    "\n",
    "# model = torch.load(\"./trained_models/transformer500\")\n",
    "model = torch.load(\"./trained_models/transformer_full_70\")\n",
    "# model = torch.load(\"./trained_models/lstm2000\")\n",
    "model.eval()\n",
    "\n",
    "train_data = np.load(\"./npys/train/sentence_code.npy\")\n",
    "train_labels = np.load(\"./npys/train/labels.npy\")\n",
    "test_data = np.load(\"./npys/test/sentence_code.npy\")\n",
    "test_labels = np.load(\"./npys/test/labels.npy\")\n",
    "vocabulary_vectors = np.load(\"./npys/vocabulary_vectors.npy\", allow_pickle=True)\n",
    "word2index = np.load(\"./npys/word2index.npy\", allow_pickle=True).item()\n",
    "\n",
    "train_set = MyDataset(train_data[12000:13000], train_labels[12000:13000], vocabulary_vectors)\n",
    "# train_set = MyDataset(train_data, train_labels, vocabulary_vectors)\n",
    "test_set = MyDataset(test_data, test_labels, vocabulary_vectors)\n",
    "train_loader = torch.utils.data.DataLoader(train_set)\n",
    "test_loader = torch.utils.data.DataLoader(test_set)"
   ]
  },
  {
   "cell_type": "code",
   "execution_count": null,
   "metadata": {},
   "outputs": [],
   "source": [
    "result = []\n",
    "raw_result = []\n",
    "\n",
    "for X, y in tqdm(test_loader):\n",
    "# for X, y in tqdm(train_loader):\n",
    "    output = model(X)\n",
    "    output = output.item()\n",
    "    label = y.item()\n",
    "    if output>=0.5:\n",
    "        prediction = 1\n",
    "    else:\n",
    "        prediction = 0\n",
    "    if prediction==label:\n",
    "        result.append(1)\n",
    "    else:\n",
    "        result.append(0)\n",
    "    raw_result.append(output)\n",
    "# print(raw_result)\n",
    "print(np.average(result))"
   ]
  },
  {
   "cell_type": "code",
   "execution_count": 18,
   "metadata": {},
   "outputs": [
    {
     "name": "stdout",
     "output_type": "stream",
     "text": [
      "Output: 0.6468378901481628\n"
     ]
    },
    {
     "data": {
      "image/png": "[encoded data removed]",
      "text/plain": [
       "<Figure size 640x480 with 1 Axes>"
      ]
     },
     "metadata": {},
     "output_type": "display_data"
    }
   ],
   "source": [
    "import matplotlib.pyplot as plt\n",
    "\n",
    "from interpret import feature_occlusion\n",
    "from utilities import sentence_split, text_2_encoding, SENTENCE_MAXLEN\n",
    "\n",
    "sentence = '''\n",
    "This is a really bad movie, wonderful, shit. \n",
    "'''\n",
    "input_vec = text_2_encoding(sentence, word2index, vocabulary_vectors, length_limit=SENTENCE_MAXLEN)\n",
    "input_vec = torch.as_tensor([input_vec], dtype=torch.float32, device=\"cuda\")\n",
    "output = model(input_vec)\n",
    "print(\"Output:\", output.item())\n",
    "heatmap = feature_occlusion(model, input_vec)\n",
    "words = sentence_split(sentence)\n",
    "length = min(len(words), SENTENCE_MAXLEN)\n",
    "plt.bar(words[:length], heatmap[:length])\n",
    "plt.show()"
   ]
  }
 ],
 "metadata": {
  "kernelspec": {
   "display_name": "Python 3.7.13 ('ML')",
   "language": "python",
   "name": "python3"
  },
  "language_info": {
   "codemirror_mode": {
    "name": "ipython",
    "version": 3
   },
   "file_extension": ".py",
   "mimetype": "text/x-python",
   "name": "python",
   "nbconvert_exporter": "python",
   "pygments_lexer": "ipython3",
   "version": "3.7.13"
  },
  "orig_nbformat": 4,
  "vscode": {
   "interpreter": {
    "hash": "8809126b2e3f6bd67afd8dec0aaf136102c3339cf179547b748c69a78a732e29"
   }
  }
 },
 "nbformat": 4,
 "nbformat_minor": 2
}
