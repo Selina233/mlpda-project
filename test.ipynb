{
 "cells": [
  {
   "cell_type": "markdown",
   "metadata": {},
   "source": [
    "测试准确率："
   ]
  },
  {
   "cell_type": "code",
   "execution_count": null,
   "metadata": {},
   "outputs": [],
   "source": [
    "import os\n",
    "\n",
    "import numpy as np\n",
    "import torch\n",
    "from tqdm import tqdm\n",
    "\n",
    "from dataset import MyDataset\n",
    "from model import MyTransformerEncoder\n",
    "\n",
    "model = torch.load(\"./trained_models/transformer2000\")\n",
    "train_data = np.load(\"./npys/train/sentence_code.npy\")\n",
    "train_labels = np.load(\"./npys/train/labels.npy\")\n",
    "test_data = np.load(\"./npys/test/sentence_code.npy\")\n",
    "test_labels = np.load(\"./npys/test/labels.npy\")\n",
    "vocabulary_vectors = np.load(\"./npys/vocabulary_vectors.npy\")\n",
    "train_set = MyDataset(train_data[12000:13000], train_labels[12000:13000], vocabulary_vectors)\n",
    "test_set = MyDataset(test_data[12000:13000], test_labels[12000:13000], vocabulary_vectors)\n",
    "train_loader = torch.utils.data.DataLoader(train_set)\n",
    "test_loader = torch.utils.data.DataLoader(test_set)\n",
    "result = []\n",
    "raw_result = []\n",
    "model.eval()\n",
    "# for X, y in tqdm(test_loader):\n",
    "for X, y in tqdm(train_loader):\n",
    "    output = model(X).item()\n",
    "    label = y.item()\n",
    "    # print(\"output =\", output)\n",
    "    # print(\"label =\", label)\n",
    "    if output>=0.5:\n",
    "        prediction = 1\n",
    "    else:\n",
    "        prediction = 0\n",
    "    if prediction==label:\n",
    "        result.append(1)\n",
    "    else:\n",
    "        result.append(0)\n",
    "    raw_result.append(output)\n",
    "# print(raw_result)\n",
    "print(np.average(result))"
   ]
  },
  {
   "cell_type": "code",
   "execution_count": null,
   "metadata": {},
   "outputs": [],
   "source": [
    "print(raw_result)"
   ]
  }
 ],
 "metadata": {
  "kernelspec": {
   "display_name": "Python 3.7.13 ('ML')",
   "language": "python",
   "name": "python3"
  },
  "language_info": {
   "codemirror_mode": {
    "name": "ipython",
    "version": 3
   },
   "file_extension": ".py",
   "mimetype": "text/x-python",
   "name": "python",
   "nbconvert_exporter": "python",
   "pygments_lexer": "ipython3",
   "version": "3.7.13"
  },
  "orig_nbformat": 4,
  "vscode": {
   "interpreter": {
    "hash": "8809126b2e3f6bd67afd8dec0aaf136102c3339cf179547b748c69a78a732e29"
   }
  }
 },
 "nbformat": 4,
 "nbformat_minor": 2
}
