{
  "cells": [
    {
      "cell_type": "markdown",
      "metadata": {},
      "source": [
        "### 叔叔我啊，要开始训练了捏\n",
        "\n",
        "首先，获取模型和数据\n"
      ]
    },
    {
      "cell_type": "code",
      "execution_count": 1,
      "metadata": {},
      "outputs": [],
      "source": [
        "import os\n",
        "\n",
        "import numpy as np\n",
        "import torch\n",
        "from tqdm import tqdm\n",
        "\n",
        "from dataset import MyDataset\n",
        "from model import LSTM, MyLSTM, MyTransformerEncoder\n",
        "\n",
        "device = \"cuda\" if torch.cuda.is_available() else \"cpu\"\n",
        "\n",
        "model = MyTransformerEncoder(d_model=100, output_dimension=1)\n",
        "# model = MyLSTM(d_model=100, output_dimension=1)\n",
        "# model = LSTM(256)\n",
        "train_data = np.load(\"./npys/train/sentence_code.npy\")\n",
        "train_labels = np.load(\"./npys/train/labels.npy\")\n",
        "vocabulary_vectors = np.load(\"./npys/vocabulary_vectors.npy\")\n",
        "# dataset = MyDataset(train_data[12000:13000], train_labels[12000:13000], vocabulary_vectors)\n",
        "dataset = MyDataset(train_data, train_labels, vocabulary_vectors)\n",
        "dataloader = torch.utils.data.DataLoader(dataset, batch_size=256, shuffle=True) # Windows上，num_workers太高会慢，很sb\n",
        "\n",
        "\n",
        "optimizer = torch.optim.Adam(model.parameters(), lr=1e-4)\n",
        "scheduler = torch.optim.lr_scheduler.ExponentialLR(optimizer, 0.995)\n",
        "# optimizer = torch.optim.SGD(model.parameters(), lr=1e-5)"
      ]
    },
    {
      "cell_type": "code",
      "execution_count": 2,
      "metadata": {},
      "outputs": [],
      "source": [
        "def train(max_epoch):\n",
        "    loss_fn = torch.nn.BCELoss().to(device)\n",
        "    # loss_fn = torch.nn.CrossEntropyLoss().to(device)\n",
        "    for epoch in range(max_epoch):\n",
        "        avg_loss = []\n",
        "        for X, y in tqdm(dataloader):\n",
        "            optimizer.zero_grad()\n",
        "            output = model(X)\n",
        "            # print(X.shape)\n",
        "            # print(output)\n",
        "            # print(y)\n",
        "            loss = loss_fn(output, y)\n",
        "            avg_loss.append(loss.item())\n",
        "            loss.backward()\n",
        "            optimizer.step()\n",
        "            scheduler.step()\n",
        "        if epoch%10==0:\n",
        "            print(\"Epoch: %d | loss: %f\"%(epoch, np.average(avg_loss)))"
      ]
    },
    {
      "cell_type": "markdown",
      "metadata": {},
      "source": [
        "训练，保存："
      ]
    },
    {
      "cell_type": "code",
      "execution_count": 3,
      "metadata": {},
      "outputs": [
        {
          "name": "stderr",
          "output_type": "stream",
          "text": [
            "/Users/yyt/GitHub/mlpda-project/dataset.py:15: UserWarning: Creating a tensor from a list of numpy.ndarrays is extremely slow. Please consider converting the list to a single numpy.ndarray with numpy.array() before converting to a tensor. (Triggered internally at /Users/runner/work/pytorch/pytorch/pytorch/torch/csrc/utils/tensor_new.cpp:233.)\n",
            "  sentence = torch.as_tensor(sentence, dtype=torch.float32, device=self.device)\n"
          ]
        },
        {
          "data": {
            "text/plain": [
              "(tensor([[-0.1440,  0.3255,  0.1426,  ...,  0.2540,  1.1078, -0.0731],\n",
              "         [-0.2709,  0.0440, -0.0203,  ..., -0.4923,  0.6369,  0.2364],\n",
              "         [ 0.3825,  0.1482,  0.6060,  ...,  0.0589,  0.0911,  0.4728],\n",
              "         ...,\n",
              "         [ 0.0000,  0.0000,  0.0000,  ...,  0.0000,  0.0000,  0.0000],\n",
              "         [ 0.0000,  0.0000,  0.0000,  ...,  0.0000,  0.0000,  0.0000],\n",
              "         [ 0.0000,  0.0000,  0.0000,  ...,  0.0000,  0.0000,  0.0000]]),\n",
              " tensor(1.))"
            ]
          },
          "execution_count": 3,
          "metadata": {},
          "output_type": "execute_result"
        }
      ],
      "source": [
        "dataset[0]"
      ]
    },
    {
      "cell_type": "code",
      "execution_count": 4,
      "metadata": {},
      "outputs": [],
      "source": [
        "# train(500)\n",
        "os.makedirs(\"./trained_models/\", exist_ok=True)\n",
        "torch.save(model, \"./trained_models/transformer_full_%d\"%500)"
      ]
    },
    {
      "cell_type": "code",
      "execution_count": null,
      "metadata": {},
      "outputs": [],
      "source": []
    }
  ],
  "metadata": {
    "kernelspec": {
      "display_name": "Python 3.10.8 ('mlpda')",
      "language": "python",
      "name": "python3"
    },
    "language_info": {
      "codemirror_mode": {
        "name": "ipython",
        "version": 3
      },
      "file_extension": ".py",
      "mimetype": "text/x-python",
      "name": "python",
      "nbconvert_exporter": "python",
      "pygments_lexer": "ipython3",
      "version": "3.10.8"
    },
    "orig_nbformat": 4,
    "vscode": {
      "interpreter": {
        "hash": "d3e0baf67eca4e7fa854f644d61b9ce9c5791eff3d5812e3fb6a3332a81a5d21"
      }
    }
  },
  "nbformat": 4,
  "nbformat_minor": 2
}
