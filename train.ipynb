{
 "cells": [
  {
   "cell_type": "markdown",
   "metadata": {},
   "source": [
    "### 叔叔我啊，要开始训练了捏\n",
    "\n",
    "首先，获取模型和数据\n"
   ]
  },
  {
   "cell_type": "code",
   "execution_count": 1,
   "metadata": {},
   "outputs": [],
   "source": [
    "import os\n",
    "\n",
    "import numpy as np\n",
    "import torch\n",
    "from tqdm import tqdm\n",
    "\n",
    "from dataset import MyDataset\n",
    "from model import LSTM, MyLSTM, MyTransformerEncoder\n",
    "\n",
    "device = \"cuda\" if torch.cuda.is_available() else \"cpu\"\n",
    "\n",
    "model = MyTransformerEncoder(d_model=100, output_dimension=1)\n",
    "# model = MyLSTM(d_model=100, output_dimension=1)\n",
    "# model = LSTM(256)\n",
    "train_data = np.load(\"./npys/train/sentence_code.npy\")\n",
    "train_labels = np.load(\"./npys/train/labels.npy\")\n",
    "vocabulary_vectors = np.load(\"./npys/vocabulary_vectors.npy\")\n",
    "# dataset = MyDataset(train_data[12000:13000], train_labels[12000:13000], vocabulary_vectors)\n",
    "dataset = MyDataset(train_data, train_labels, vocabulary_vectors)\n",
    "dataloader = torch.utils.data.DataLoader(dataset, batch_size=256, shuffle=True) # Windows上，num_workers太高会慢，很sb\n",
    "\n",
    "\n",
    "optimizer = torch.optim.Adam(model.parameters(), lr=1e-4)\n",
    "scheduler = torch.optim.lr_scheduler.ExponentialLR(optimizer, 0.995)\n",
    "# optimizer = torch.optim.SGD(model.parameters(), lr=1e-5)"
   ]
  },
  {
   "cell_type": "code",
   "execution_count": 2,
   "metadata": {},
   "outputs": [],
   "source": [
    "def train(max_epoch):\n",
    "    loss_fn = torch.nn.BCELoss().to(device)\n",
    "    # loss_fn = torch.nn.CrossEntropyLoss().to(device)\n",
    "    for epoch in range(max_epoch):\n",
    "        avg_loss = []\n",
    "        for X, y in tqdm(dataloader):\n",
    "            optimizer.zero_grad()\n",
    "            output = model(X)\n",
    "            # print(X.shape)\n",
    "            # print(output)\n",
    "            # print(y)\n",
    "            loss = loss_fn(output, y)\n",
    "            avg_loss.append(loss.item())\n",
    "            loss.backward()\n",
    "            optimizer.step()\n",
    "            scheduler.step()\n",
    "        if epoch%10==0:\n",
    "            print(\"Epoch: %d | loss: %f\"%(epoch, np.average(avg_loss)))"
   ]
  },
  {
   "cell_type": "markdown",
   "metadata": {},
   "source": [
    "训练，保存："
   ]
  },
  {
   "cell_type": "code",
   "execution_count": 4,
   "metadata": {},
   "outputs": [],
   "source": [
    "# train(500)\n",
    "os.makedirs(\"./trained_models/\", exist_ok=True)\n",
    "torch.save(model, \"./trained_models/transformer_full_%d\"%500)"
   ]
  },
  {
   "cell_type": "code",
   "execution_count": null,
   "metadata": {},
   "outputs": [],
   "source": []
  }
 ],
 "metadata": {
  "kernelspec": {
   "display_name": "Python 3.7.13 ('ML')",
   "language": "python",
   "name": "python3"
  },
  "language_info": {
   "codemirror_mode": {
    "name": "ipython",
    "version": 3
   },
   "file_extension": ".py",
   "mimetype": "text/x-python",
   "name": "python",
   "nbconvert_exporter": "python",
   "pygments_lexer": "ipython3",
   "version": "3.7.13"
  },
  "orig_nbformat": 4,
  "vscode": {
   "interpreter": {
    "hash": "8809126b2e3f6bd67afd8dec0aaf136102c3339cf179547b748c69a78a732e29"
   }
  }
 },
 "nbformat": 4,
 "nbformat_minor": 2
}
