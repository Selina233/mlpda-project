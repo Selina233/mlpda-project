{
 "cells": [
  {
   "cell_type": "markdown",
   "metadata": {},
   "source": [
    "### 叔叔我啊，要开始训练了捏\n",
    "\n",
    "首先，获取模型和数据\n"
   ]
  },
  {
   "cell_type": "code",
   "execution_count": 1,
   "metadata": {},
   "outputs": [],
   "source": [
    "import os\n",
    "\n",
    "import numpy as np\n",
    "import torch\n",
    "from tqdm import tqdm\n",
    "\n",
    "from dataset import MyDataset\n",
    "from model import LSTM, MyLSTM, MyTransformerEncoder\n",
    "\n",
    "device = \"cuda\" if torch.cuda.is_available() else \"cpu\"\n",
    "\n",
    "model = MyTransformerEncoder(d_model=100, output_dimension=1)\n",
    "# model = MyLSTM(d_model=100, output_dimension=1)\n",
    "# model = LSTM(256)\n",
    "train_data = np.load(\"./npys/train/sentence_code.npy\")\n",
    "train_labels = np.load(\"./npys/train/labels.npy\")\n",
    "vocabulary_vectors = np.load(\"./npys/vocabulary_vectors.npy\")\n",
    "dataset = MyDataset(train_data[12000:13000], train_labels[12000:13000], vocabulary_vectors)\n",
    "dataloader = torch.utils.data.DataLoader(dataset, batch_size=256, shuffle=True) # Windows上，num_workers太高会慢，很sb\n",
    "\n",
    "\n",
    "optimizer = torch.optim.Adam(model.parameters(), lr=1e-4)\n",
    "scheduler = torch.optim.lr_scheduler.ExponentialLR(optimizer, 0.995)\n",
    "# optimizer = torch.optim.SGD(model.parameters(), lr=1e-5)"
   ]
  },
  {
   "cell_type": "code",
   "execution_count": 2,
   "metadata": {},
   "outputs": [],
   "source": [
    "def train(max_epoch):\n",
    "    loss_fn = torch.nn.BCELoss().to(device)\n",
    "    # loss_fn = torch.nn.CrossEntropyLoss().to(device)\n",
    "    for epoch in range(max_epoch):\n",
    "        avg_loss = []\n",
    "        for X, y in dataloader:\n",
    "            optimizer.zero_grad()\n",
    "            output = model(X)\n",
    "            # print(X.shape)\n",
    "            # print(output)\n",
    "            # print(y)\n",
    "            loss = loss_fn(output, y)\n",
    "            avg_loss.append(loss.item())\n",
    "            loss.backward()\n",
    "            optimizer.step()\n",
    "            scheduler.step()\n",
    "        if epoch%10==0:\n",
    "            print(\"Epoch: %d | loss: %f\"%(epoch, np.average(avg_loss)))"
   ]
  },
  {
   "cell_type": "markdown",
   "metadata": {},
   "source": [
    "训练，保存："
   ]
  },
  {
   "cell_type": "code",
   "execution_count": 3,
   "metadata": {},
   "outputs": [
    {
     "name": "stdout",
     "output_type": "stream",
     "text": [
      "Epoch: 0 | loss: 0.713217\n",
      "Epoch: 10 | loss: 0.641049\n",
      "Epoch: 20 | loss: 0.311088\n",
      "Epoch: 30 | loss: 0.236008\n",
      "Epoch: 40 | loss: 0.207907\n",
      "Epoch: 50 | loss: 0.181901\n",
      "Epoch: 60 | loss: 0.188094\n",
      "Epoch: 70 | loss: 0.155537\n",
      "Epoch: 80 | loss: 0.160156\n",
      "Epoch: 90 | loss: 0.137808\n",
      "Epoch: 100 | loss: 0.141360\n",
      "Epoch: 110 | loss: 0.140189\n",
      "Epoch: 120 | loss: 0.142932\n",
      "Epoch: 130 | loss: 0.142101\n",
      "Epoch: 140 | loss: 0.125473\n",
      "Epoch: 150 | loss: 0.137950\n",
      "Epoch: 160 | loss: 0.119794\n",
      "Epoch: 170 | loss: 0.122597\n",
      "Epoch: 180 | loss: 0.130121\n",
      "Epoch: 190 | loss: 0.127018\n"
     ]
    }
   ],
   "source": [
    "train(200)\n",
    "os.makedirs(\"./trained_models/\", exist_ok=True)\n",
    "torch.save(model, \"./trained_models/transformer%d\"%200)"
   ]
  }
 ],
 "metadata": {
  "kernelspec": {
   "display_name": "Python 3.7.13 ('ML')",
   "language": "python",
   "name": "python3"
  },
  "language_info": {
   "codemirror_mode": {
    "name": "ipython",
    "version": 3
   },
   "file_extension": ".py",
   "mimetype": "text/x-python",
   "name": "python",
   "nbconvert_exporter": "python",
   "pygments_lexer": "ipython3",
   "version": "3.7.13"
  },
  "orig_nbformat": 4,
  "vscode": {
   "interpreter": {
    "hash": "8809126b2e3f6bd67afd8dec0aaf136102c3339cf179547b748c69a78a732e29"
   }
  }
 },
 "nbformat": 4,
 "nbformat_minor": 2
}
