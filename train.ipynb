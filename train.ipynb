{
 "cells": [
  {
   "cell_type": "markdown",
   "metadata": {},
   "source": [
    "### 叔叔我啊，要开始训练了捏\n",
    "\n",
    "首先，获取模型和数据\n"
   ]
  },
  {
   "cell_type": "code",
   "execution_count": 7,
   "metadata": {},
   "outputs": [],
   "source": [
    "import numpy as np\n",
    "import torch\n",
    "from tqdm import tqdm\n",
    "\n",
    "from dataset import MyDataset\n",
    "from model import MyTransformerEncoder\n",
    "\n",
    "device = \"cuda\" if torch.cuda.is_available() else \"cpu\"\n",
    "\n",
    "model = MyTransformerEncoder(d_model=100, output_dimension=1)\n",
    "train_data = np.load(\"./npys/train/sentence_code.npy\")\n",
    "train_labels = np.load(\"./npys/train/labels.npy\")\n",
    "vocabulary_vectors = np.load(\"./npys/vocabulary_vectors.npy\")\n",
    "dataset = MyDataset(train_data, train_labels, vocabulary_vectors)\n",
    "dataloader = torch.utils.data.DataLoader(dataset, batch_size=8, num_workers=8)\n",
    "\n",
    "optimizer = torch.optim.Adam(model.parameters())"
   ]
  },
  {
   "cell_type": "code",
   "execution_count": 8,
   "metadata": {},
   "outputs": [],
   "source": [
    "def train(max_epoch):\n",
    "    loss_fn = torch.nn.functional.cross_entropy\n",
    "    for epoch in range(max_epoch):\n",
    "        for X, y in tqdm(dataloader):\n",
    "            output = model(X)\n",
    "            loss = loss_fn(output, y)\n",
    "            loss.backward()\n",
    "            optimizer.step()"
   ]
  },
  {
   "cell_type": "code",
   "execution_count": 9,
   "metadata": {},
   "outputs": [
    {
     "name": "stderr",
     "output_type": "stream",
     "text": [
      "100%|██████████| 3125/3125 [01:14<00:00, 42.00it/s]\n",
      " 26%|██▌       | 817/3125 [00:26<00:38, 60.68it/s] "
     ]
    }
   ],
   "source": [
    "train(100)\n",
    "torch.save(model, \"./trainde_models/transformer%d\"%100)"
   ]
  }
 ],
 "metadata": {
  "kernelspec": {
   "display_name": "Python 3.7.13 ('ML')",
   "language": "python",
   "name": "python3"
  },
  "language_info": {
   "codemirror_mode": {
    "name": "ipython",
    "version": 3
   },
   "file_extension": ".py",
   "mimetype": "text/x-python",
   "name": "python",
   "nbconvert_exporter": "python",
   "pygments_lexer": "ipython3",
   "version": "3.7.13"
  },
  "orig_nbformat": 4,
  "vscode": {
   "interpreter": {
    "hash": "8809126b2e3f6bd67afd8dec0aaf136102c3339cf179547b748c69a78a732e29"
   }
  }
 },
 "nbformat": 4,
 "nbformat_minor": 2
}
