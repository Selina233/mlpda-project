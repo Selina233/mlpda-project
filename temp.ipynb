{
 "cells": [
  {
   "cell_type": "code",
   "execution_count": null,
   "metadata": {},
   "outputs": [],
   "source": [
    "test_sentence = np.load(\"./npys/test/sentence_code.npy\",allow_pickle=True)\n",
    "vocabulary_vectors = np.load(\"./npys/vocabulary_vectors.npy\",allow_pickle=True)\n",
    "y_test = np.load(\"./npys/test/labels.npy\",allow_pickle=True).tolist()\n",
    "X_test=[]\n",
    "# for sentence in test_sentence:\n",
    "#     temp=[]\n",
    "#     for word in sentence:\n",
    "#         if word<0:\n",
    "#             temp.append(np.zeros(100))\n",
    "#         else:\n",
    "#             temp.append(vocabulary_vectors[word])\n",
    "#     X_test.append(temp)\n",
    "\n",
    "for sentence in tqdm (test_sentence):\n",
    "    temp=[]\n",
    "    if len(sentence)!=600:\n",
    "        print(\"fuck\")\n",
    "        break\n",
    "    for word in sentence:\n",
    "        if word<0:\n",
    "            temp+=list(np.zeros(100))\n",
    "        else:\n",
    "            temp+=list(vocabulary_vectors[word])\n",
    "    X_test.append(temp)\n",
    "\n",
    "\n",
    "# sentence = [self.vocabulary_vectors[word_id] if word_id>=0 else np.zeros(100) for word_id in sentence]\n",
    "#         sentence = torch.as_tensor(sentence, dtype=torch.float32, device=self.device)\n",
    "#         label = torch.as_tensor(self.y[index], dtype=torch.float32, device=self.device)"
   ]
  }
 ],
 "metadata": {
  "kernelspec": {
   "display_name": "Python 3.9.6 64-bit",
   "language": "python",
   "name": "python3"
  },
  "language_info": {
   "name": "python",
   "version": "3.9.6"
  },
  "orig_nbformat": 4,
  "vscode": {
   "interpreter": {
    "hash": "31f2aee4e71d21fbe5cf8b01ff0e069b9275f58929596ceb00d14d90e3e16cd6"
   }
  }
 },
 "nbformat": 4,
 "nbformat_minor": 2
}
